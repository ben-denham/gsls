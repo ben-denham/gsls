{
 "cells": [
  {
   "cell_type": "markdown",
   "metadata": {},
   "source": [
    "# Bootstrap Quantification under Prior Shift"
   ]
  },
  {
   "cell_type": "code",
   "execution_count": null,
   "metadata": {},
   "outputs": [],
   "source": [
    "import pandas as pd\n",
    "\n",
    "from pyquantification.experiments import cached_experiments"
   ]
  },
  {
   "cell_type": "code",
   "execution_count": null,
   "metadata": {},
   "outputs": [],
   "source": [
    "quantification_methods = [\n",
    "    'em-bs', \n",
    "]\n",
    "dataset_labels = {\n",
    "    'insect-sex': 'ISX',\n",
    "    'insect-species': 'ISP',\n",
    "    'arabic-digits': 'DIG',\n",
    "    'handwritten-letters-letter': 'HLL',\n",
    "    'handwritten-letters-author': 'HLA',\n",
    "}\n",
    "results_df = cached_experiments(\n",
    "    cache_key='bootstrap_prior_shift_results',\n",
    "    dataset_names=list(dataset_labels.keys()),\n",
    "    classifier_names=['logreg'],\n",
    "    calibration_methods=['uncalibrated'],\n",
    "    loss_weights=[0],\n",
    "    gain_weights=[0],\n",
    "    random_states=list(range(0, 1000)),\n",
    "    shift_types=['prior_shift'],\n",
    "    bin_counts=['auto'],\n",
    "    random_priors_options=[True],\n",
    "    quantification_methods=quantification_methods,\n",
    "    classification_workers=10,\n",
    "    continue_on_failure=True,\n",
    ")"
   ]
  },
  {
   "cell_type": "markdown",
   "metadata": {},
   "source": [
    "## Quantification Method Comparison"
   ]
  },
  {
   "cell_type": "code",
   "execution_count": null,
   "metadata": {},
   "outputs": [],
   "source": [
    "prior_df = results_df\n",
    "\n",
    "def print_table_latex(table_df):\n",
    "    for _, row in table_df.iterrows():\n",
    "        if row.isna().all():\n",
    "            print('\\hline')\n",
    "        else:\n",
    "            print(' & '.join(row.to_dict().values()) + r' \\\\')\n",
    "\n",
    "def coverage_table():\n",
    "    experiment_grouping = ['dataset_name', 'shift_type', 'gain_weight',\n",
    "                           'loss_weight', 'random_state']\n",
    "    plot_methods = {\n",
    "        'em-bs': 'EM-BS',\n",
    "    }\n",
    "\n",
    "    def format_cell(mean):\n",
    "        str_mean = f'{mean:.0%}'\n",
    "        str_mean = str_mean.replace('%', '\\%')\n",
    "        if mean >= 0.8:\n",
    "            str_mean = r'\\textbf{' + str_mean + '}'\n",
    "        return str_mean\n",
    "\n",
    "    rows = []\n",
    "    for dataset_name, dataset_label in dataset_labels.items():\n",
    "        for method, method_label in plot_methods.items():\n",
    "            row = {\n",
    "                'dataset': dataset_label,\n",
    "                'method': method_label,\n",
    "            }\n",
    "            cell_prior_df = prior_df[prior_df['dataset_name'] == dataset_name]\n",
    "            row['prior_shift'] = format_cell(cell_prior_df[f'{method}_coverage'].mean())\n",
    "            rows.append(row)\n",
    "        rows.append({})\n",
    "    return pd.DataFrame(rows)\n",
    "    \n",
    "table_df = coverage_table()\n",
    "display(table_df)\n",
    "print_table_latex(table_df)"
   ]
  }
 ],
 "metadata": {
  "kernelspec": {
   "display_name": "Python 3",
   "language": "python",
   "name": "python3"
  },
  "language_info": {
   "codemirror_mode": {
    "name": "ipython",
    "version": 3
   },
   "file_extension": ".py",
   "mimetype": "text/x-python",
   "name": "python",
   "nbconvert_exporter": "python",
   "pygments_lexer": "ipython3",
   "version": "3.8.5"
  }
 },
 "nbformat": 4,
 "nbformat_minor": 4
}
