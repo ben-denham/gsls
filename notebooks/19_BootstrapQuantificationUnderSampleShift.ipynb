{
 "cells": [
  {
   "cell_type": "markdown",
   "metadata": {},
   "source": [
    "# Bootstrap Quantification under Sample Shift"
   ]
  },
  {
   "cell_type": "code",
   "execution_count": null,
   "metadata": {},
   "outputs": [],
   "source": [
    "import itertools\n",
    "import pandas as pd\n",
    "\n",
    "from pyquantification.experiments import cached_experiments\n",
    "from pyquantification.evaluation import baseline_comparison_table"
   ]
  },
  {
   "cell_type": "code",
   "execution_count": null,
   "metadata": {},
   "outputs": [],
   "source": [
    "quantification_methods = [\n",
    "    'count',\n",
    "    'em-bs',\n",
    "]\n",
    "conf = dict(\n",
    "    classifier_names=['logreg'],\n",
    "    calibration_methods=['uncalibrated'],\n",
    "    loss_weights=[0],\n",
    "    gain_weights=[0],\n",
    "    random_states=[0],\n",
    "    shift_types=['no_shift'],\n",
    "    bin_counts=['auto'],\n",
    "    random_priors_options=[False],\n",
    "    quantification_methods=quantification_methods,\n",
    "    classification_workers=1,\n",
    "    quantification_workers=10,\n",
    "    continue_on_failure=True,\n",
    "    # Run on all samples\n",
    "    sample_idxs=None,\n",
    ")"
   ]
  },
  {
   "cell_type": "code",
   "execution_count": null,
   "metadata": {},
   "outputs": [],
   "source": [
    "binary_results_df = cached_experiments(**conf, cache_key='bootstrap_binary_sample_results', dataset_names=['binary-plankton'])"
   ]
  },
  {
   "cell_type": "code",
   "execution_count": null,
   "metadata": {},
   "outputs": [],
   "source": [
    "fg_results_df = cached_experiments(**conf, cache_key='bootstrap_fg_sample_results', dataset_names=['fg-plankton'])"
   ]
  },
  {
   "cell_type": "code",
   "execution_count": null,
   "metadata": {},
   "outputs": [],
   "source": [
    "orig_results_df = cached_experiments(**conf, cache_key='bootstrap_sample_results', dataset_names=['plankton'])"
   ]
  },
  {
   "cell_type": "code",
   "execution_count": null,
   "metadata": {},
   "outputs": [],
   "source": [
    "dataset_labels = {\n",
    "    'binary-plankton': 'BPL',\n",
    "    'fg-plankton': 'FPL',\n",
    "    'plankton': 'OPL',\n",
    "}\n",
    "shift_classifier_labels = {\n",
    "    'count': 'CC',\n",
    "    'em-bs': 'EM-BS',\n",
    "}\n",
    "\n",
    "plot_df = pd.concat([\n",
    "    binary_results_df,\n",
    "    fg_results_df,\n",
    "    orig_results_df,\n",
    "])\n",
    "plot_df['shift_condition'] = 'Sample shift'\n",
    "plot_df['dataset_label'] = plot_df['dataset_name'].map(dataset_labels)\n",
    "\n",
    "alternative_dataset_label = (\n",
    "    plot_df['dataset_label']\n",
    "    .mask((plot_df['dataset_name'] == 'plankton') & ((plot_df['test_true_count'] / plot_df['test_n']) <= 0.01), 'OPL(q <= 1%)')\n",
    "    .mask((plot_df['dataset_name'] == 'plankton') & ((plot_df['test_true_count'] / plot_df['test_n']) > 0.01), 'OPL(q > 1%)')\n",
    ")\n",
    "display(alternative_dataset_label.value_counts())"
   ]
  },
  {
   "cell_type": "code",
   "execution_count": null,
   "metadata": {},
   "outputs": [],
   "source": [
    "def print_table_latex(table_df):\n",
    "    for index, row in table_df.iterrows():\n",
    "        index = index if isinstance(index, tuple) else (index,)\n",
    "        if row.isna().all():\n",
    "            print('\\hline')\n",
    "        else:\n",
    "            print(' & '.join([\n",
    "                str(value).replace('%', '\\\\%') for value in\n",
    "                itertools.chain(index, row.to_dict().values())\n",
    "            ]) + r' \\\\')\n",
    "            \n",
    "coverage_table_df, _ = baseline_comparison_table(\n",
    "    plot_df.assign(dataset_label=alternative_dataset_label),\n",
    "    methods={v: k for k, v in shift_classifier_labels.items()},\n",
    "    baseline_method='count',\n",
    "    dataset_labels={},\n",
    "    metric='coverage',\n",
    "    row_grouping=['dataset_label'],\n",
    ")\n",
    "styled_coverage_table_df = coverage_table_df.applymap(lambda v: f'{v:.2%}')\n",
    "display(styled_coverage_table_df)\n",
    "print_table_latex(styled_coverage_table_df)"
   ]
  }
 ],
 "metadata": {
  "kernelspec": {
   "display_name": "Python 3",
   "language": "python",
   "name": "python3"
  },
  "language_info": {
   "codemirror_mode": {
    "name": "ipython",
    "version": 3
   },
   "file_extension": ".py",
   "mimetype": "text/x-python",
   "name": "python",
   "nbconvert_exporter": "python",
   "pygments_lexer": "ipython3",
   "version": "3.8.5"
  }
 },
 "nbformat": 4,
 "nbformat_minor": 4
}
