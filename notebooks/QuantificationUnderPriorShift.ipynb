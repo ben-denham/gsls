{
 "cells": [
  {
   "cell_type": "markdown",
   "metadata": {},
   "source": [
    "# Quantification under Prior Shift"
   ]
  },
  {
   "cell_type": "code",
   "execution_count": null,
   "metadata": {},
   "outputs": [],
   "source": [
    "%load_ext autoreload\n",
    "%autoreload 2"
   ]
  },
  {
   "cell_type": "code",
   "execution_count": null,
   "metadata": {},
   "outputs": [],
   "source": [
    "from pyquantification.experiments import cached_experiments\n",
    "from pyquantification.evaluation import (\n",
    "    display_stat_table,\n",
    "    color_scale,\n",
    ")"
   ]
  },
  {
   "cell_type": "code",
   "execution_count": null,
   "metadata": {},
   "outputs": [],
   "source": [
    "quantification_methods = [\n",
    "    'count',\n",
    "    'pcc',\n",
    "    'em', \n",
    "    'gsls',\n",
    "    'true-weight-gsls',\n",
    "]\n",
    "dataset_labels = {\n",
    "    'insect-sex': 'ISX',\n",
    "    'insect-species': 'ISP',\n",
    "    'arabic-digits': 'DIG',\n",
    "    'handwritten-letters-letter': 'HLL',\n",
    "    'handwritten-letters-author': 'HLA',\n",
    "}\n",
    "results_df = cached_experiments(\n",
    "    cache_key='prior_shift_results',\n",
    "    dataset_names=list(dataset_labels.keys()),\n",
    "    classifier_names=['logreg'],\n",
    "    loss_weights=[0],\n",
    "    gain_weights=[0],\n",
    "    random_states=list(range(0, 1000)),\n",
    "    shift_types=['prior_shift'],\n",
    "    bin_counts=['auto'],\n",
    "    random_priors_options=[True],\n",
    "    quantification_methods=quantification_methods,\n",
    "    classification_workers=12,\n",
    "    continue_on_failure=True,\n",
    ")"
   ]
  },
  {
   "cell_type": "code",
   "execution_count": null,
   "metadata": {},
   "outputs": [],
   "source": [
    "# Allow for initial filtering of results\n",
    "plot_df = results_df.reset_index()"
   ]
  },
  {
   "cell_type": "markdown",
   "metadata": {},
   "source": [
    "## Quantification Method Comparison"
   ]
  },
  {
   "cell_type": "code",
   "execution_count": null,
   "metadata": {},
   "outputs": [],
   "source": [
    "display_stat_table(plot_df,\n",
    "                   stat='coverage',\n",
    "                   row_grouping=['single_grouping'],\n",
    "                   methods={'PCC': 'pcc',\n",
    "                            'EM': 'em',\n",
    "                            'GSLS': 'gsls'},\n",
    "                   color_func=color_scale(threshold=0.8),\n",
    "                   format_string='{:.0%}')"
   ]
  },
  {
   "cell_type": "code",
   "execution_count": null,
   "metadata": {},
   "outputs": [],
   "source": [
    "display_stat_table(plot_df,\n",
    "                   stat='absolute_error',\n",
    "                   row_grouping='dataset_name',\n",
    "                   methods={'CC': 'count',\n",
    "                            'PCC': 'pcc',\n",
    "                            'EM': 'em',\n",
    "                            'GSLS': 'gsls'},\n",
    "                   format_string='{:.1%}',\n",
    "                   include_std=True)"
   ]
  },
  {
   "cell_type": "code",
   "execution_count": null,
   "metadata": {},
   "outputs": [],
   "source": []
  }
 ],
 "metadata": {
  "kernelspec": {
   "display_name": "Python 3",
   "language": "python",
   "name": "python3"
  },
  "language_info": {
   "codemirror_mode": {
    "name": "ipython",
    "version": 3
   },
   "file_extension": ".py",
   "mimetype": "text/x-python",
   "name": "python",
   "nbconvert_exporter": "python",
   "pygments_lexer": "ipython3",
   "version": "3.8.5"
  }
 },
 "nbformat": 4,
 "nbformat_minor": 4
}
