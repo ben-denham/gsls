{
 "cells": [
  {
   "cell_type": "markdown",
   "metadata": {},
   "source": [
    "# Sensitivity Analysis"
   ]
  },
  {
   "cell_type": "code",
   "execution_count": null,
   "metadata": {},
   "outputs": [],
   "source": [
    "from pyquantification.experiments import cached_experiments\n",
    "from pyquantification.evaluation import (\n",
    "    display_dataset_summary,\n",
    "    plot_bin_sensitivity,\n",
    ")"
   ]
  },
  {
   "cell_type": "code",
   "execution_count": null,
   "metadata": {},
   "outputs": [],
   "source": [
    "quantification_methods = [\n",
    "    'gsls',\n",
    "]\n",
    "dataset_labels = {\n",
    "    'insect-sex': 'ISX-500',\n",
    "    'insect-sex_smaller': 'ISX-250',\n",
    "    'insect-sex_smallest': 'ISX-50',\n",
    "}\n",
    "common_options = dict(\n",
    "    dataset_names=list(dataset_labels.keys()),\n",
    "    classifier_names=['logreg'],\n",
    "    calibration_methods=['uncalibrated'],\n",
    "    loss_weights=[0, 0.3, 0.7, 1],\n",
    "    gain_weights=[0, 0.3, 0.7, 1],\n",
    "    random_states=list(range(0, 100)),\n",
    "    shift_types=['gsls_shift'],\n",
    "    bin_counts=[5, 'auto', 50],\n",
    "    random_priors_options=[True],\n",
    ")\n",
    "# Run classifiers first with parallelism, as they do not affect the runtime.\n",
    "cached_experiments(\n",
    "    cache_key='classifier_only_bins_results',\n",
    "    **common_options,\n",
    "    quantification_methods=[],\n",
    "    classification_workers=10,\n",
    "    continue_on_failure=True,\n",
    ")\n",
    "results_df = cached_experiments(\n",
    "    cache_key='bins_results',\n",
    "    **common_options,\n",
    "    quantification_methods=quantification_methods,\n",
    "    classification_workers=1,\n",
    "    continue_on_failure=True,\n",
    ")\n",
    "# Also evaluate speed of PCC and EM under the same conditions\n",
    "quantification_runtime_df = cached_experiments(\n",
    "    cache_key='quantification_runtime_results',\n",
    "    **{**common_options, 'bin_counts': ['auto']},\n",
    "    quantification_methods=['gsls', 'pcc', 'em'],\n",
    "    classification_workers=1,\n",
    "    continue_on_failure=True,\n",
    ")"
   ]
  },
  {
   "cell_type": "code",
   "execution_count": null,
   "metadata": {},
   "outputs": [],
   "source": [
    "# Allow for initial filtering of results\n",
    "plot_df = results_df.reset_index()\n",
    "\n",
    "# Set dataset labels\n",
    "plot_df['dataset_label'] = plot_df['dataset_name'].map(dataset_labels)"
   ]
  },
  {
   "cell_type": "markdown",
   "metadata": {},
   "source": [
    "## Dataset Summary"
   ]
  },
  {
   "cell_type": "code",
   "execution_count": null,
   "metadata": {},
   "outputs": [],
   "source": [
    "display_dataset_summary(dataset_labels)"
   ]
  },
  {
   "cell_type": "markdown",
   "metadata": {},
   "source": [
    "## Bin/Instance Count Sensitivity"
   ]
  },
  {
   "cell_type": "code",
   "execution_count": null,
   "metadata": {},
   "outputs": [],
   "source": [
    "fig = plot_bin_sensitivity(\n",
    "    plot_df,\n",
    "    dataset_label_colors={\n",
    "        'ISX-500': '#332288',\n",
    "        'ISX-250': '#828CD6',\n",
    "        'ISX-50': '#DAFAEF',\n",
    "    },\n",
    "    bin_count_symbols={\n",
    "        5: ('triangle-down', 30),\n",
    "        'auto': ('circle', 24),\n",
    "        50: ('triangle-up', 30),\n",
    "    },\n",
    ")\n",
    "fig.write_image(\"plots/bin-sensitivity.svg\")\n",
    "fig.show()"
   ]
  },
  {
   "cell_type": "code",
   "execution_count": null,
   "metadata": {},
   "outputs": [],
   "source": []
  }
 ],
 "metadata": {
  "kernelspec": {
   "display_name": "Python 3",
   "language": "python",
   "name": "python3"
  },
  "language_info": {
   "codemirror_mode": {
    "name": "ipython",
    "version": 3
   },
   "file_extension": ".py",
   "mimetype": "text/x-python",
   "name": "python",
   "nbconvert_exporter": "python",
   "pygments_lexer": "ipython3",
   "version": "3.8.5"
  }
 },
 "nbformat": 4,
 "nbformat_minor": 4
}
