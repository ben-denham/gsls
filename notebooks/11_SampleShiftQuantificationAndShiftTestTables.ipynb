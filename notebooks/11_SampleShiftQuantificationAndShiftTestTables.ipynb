{
 "cells": [
  {
   "cell_type": "markdown",
   "metadata": {},
   "source": [
    "# Experiments with Real-World Dataset Shift"
   ]
  },
  {
   "cell_type": "code",
   "execution_count": null,
   "metadata": {},
   "outputs": [],
   "source": [
    "import itertools\n",
    "import numpy as np\n",
    "import pandas as pd\n",
    "import seaborn as sns\n",
    "from matplotlib.colors import rgb2hex\n",
    "\n",
    "from pyquantification.experiments import cached_experiments\n",
    "from pyquantification.evaluation import (\n",
    "    build_shift_classification_df,\n",
    "    display_stat_table,\n",
    "    color_scale,\n",
    "    shift_test_table,\n",
    "    baseline_comparison_table,\n",
    ")"
   ]
  },
  {
   "cell_type": "code",
   "execution_count": null,
   "metadata": {},
   "outputs": [],
   "source": [
    "dataset_labels = {\n",
    "    'binary-plankton': 'BPL',\n",
    "    'fg-plankton': 'FPL',\n",
    "    'plankton': 'OPL',\n",
    "}\n",
    "any_shift_test_labels = {\n",
    "    'ks': 'KS',\n",
    "    'lr': 'LR',\n",
    "}\n",
    "non_prior_shift_test_labels = {\n",
    "    'aks': 'AKS',\n",
    "}\n",
    "shift_test_labels = {**any_shift_test_labels, **non_prior_shift_test_labels}\n",
    "shift_classifier_labels = {\n",
    "    'count': 'CC',\n",
    "    'pcc': 'PCC',\n",
    "    'em': 'EM',\n",
    "    'gsls': 'GSLS',\n",
    "    **{\n",
    "        f'{any_shift_test}+{non_prior_shift_test}': f'{any_shift_test_label}+{non_prior_shift_test_label}'\n",
    "        for any_shift_test, any_shift_test_label in any_shift_test_labels.items()\n",
    "        for non_prior_shift_test, non_prior_shift_test_label in non_prior_shift_test_labels.items()\n",
    "    }\n",
    "}\n",
    "\n",
    "def print_table_latex(table_df):\n",
    "    for index, row in table_df.iterrows():\n",
    "        index = index if isinstance(index, tuple) else (index,)\n",
    "        if row.isna().all():\n",
    "            print('\\hline')\n",
    "        else:\n",
    "            print(' & '.join([\n",
    "                str(value).replace('%', '\\\\%') for value in\n",
    "                itertools.chain(index, row.to_dict().values())\n",
    "            ]) + r' \\\\')"
   ]
  },
  {
   "cell_type": "code",
   "execution_count": null,
   "metadata": {},
   "outputs": [],
   "source": [
    "shift_dfs = []\n",
    "for cache_key in ['binary_sample_results', 'fg_sample_results', 'sample_results']:\n",
    "    raw_df = cached_experiments(cache_key=cache_key)\n",
    "    _, shift_df = build_shift_classification_df(raw_df,\n",
    "                                                any_shift_tests=any_shift_test_labels.keys(),\n",
    "                                                non_prior_shift_tests=non_prior_shift_test_labels.keys())\n",
    "    shift_dfs.append(shift_df)\n",
    "\n",
    "shift_plot_df = pd.concat(shift_dfs)\n",
    "shift_plot_df['shift_condition'] = 'Sample shift'\n",
    "shift_plot_df['dataset_label'] = shift_plot_df['dataset_name'].map(dataset_labels)\n",
    "\n",
    "alternative_dataset_label = (\n",
    "    shift_plot_df['dataset_label']\n",
    "    .mask((shift_plot_df['dataset_name'] == 'plankton') & ((shift_plot_df['test_true_count'] / shift_plot_df['test_n']) <= 0.01), 'OPL(q <= 1%)')\n",
    "    .mask((shift_plot_df['dataset_name'] == 'plankton') & ((shift_plot_df['test_true_count'] / shift_plot_df['test_n']) > 0.01), 'OPL(q > 1%)')\n",
    ")\n",
    "display(alternative_dataset_label.value_counts())"
   ]
  },
  {
   "cell_type": "markdown",
   "metadata": {},
   "source": [
    "## Shift Tests"
   ]
  },
  {
   "cell_type": "code",
   "execution_count": null,
   "metadata": {},
   "outputs": [],
   "source": [
    "shift_test_colormap = sns.light_palette('green', as_cmap=True)\n",
    "    \n",
    "table_df = shift_test_table(\n",
    "    shift_plot_df,\n",
    "    dataset_labels=dataset_labels,\n",
    "    shift_conditions=['Sample shift'],\n",
    "    shift_test_labels=shift_test_labels,\n",
    ")\n",
    "display(\n",
    "    table_df.style\n",
    "    .format('{:.2%}')\n",
    "    .background_gradient(cmap=shift_test_colormap, vmin=0, vmax=1)\n",
    ")\n",
    "\n",
    "def format_shift_test_cell(value):\n",
    "    color = shift_test_colormap(value)\n",
    "    hexcolor = rgb2hex(color).strip('#').upper()\n",
    "    return f'\\cellcolor[HTML]{{{hexcolor}}} {value:.2%}'.replace('%', '\\%')\n",
    "\n",
    "#print_table_latex(table_df.applymap(format_shift_test_cell))"
   ]
  },
  {
   "cell_type": "markdown",
   "metadata": {},
   "source": [
    "## Error Evaluation"
   ]
  },
  {
   "cell_type": "code",
   "execution_count": null,
   "metadata": {},
   "outputs": [],
   "source": [
    "error_table_df, _ = baseline_comparison_table(\n",
    "    shift_plot_df.assign(dataset_label=alternative_dataset_label),\n",
    "    methods={v: k for k, v in shift_classifier_labels.items()},\n",
    "    baseline_method='count',\n",
    "    dataset_labels={},\n",
    "    metric='absolute_error',\n",
    "    include_std=True,\n",
    "    row_grouping=['dataset_label'],\n",
    ")\n",
    "styled_error_table_df = error_table_df.applymap(lambda v: f'{v[0]:.2%} ({v[1]:.2%})')\n",
    "display(styled_error_table_df)\n",
    "print_table_latex(styled_error_table_df)"
   ]
  },
  {
   "cell_type": "markdown",
   "metadata": {},
   "source": [
    "## Coverage Evaluation"
   ]
  },
  {
   "cell_type": "code",
   "execution_count": null,
   "metadata": {},
   "outputs": [],
   "source": [
    "coverage_table_df, _ = baseline_comparison_table(\n",
    "    shift_plot_df.assign(dataset_label=alternative_dataset_label),\n",
    "    methods={v: k for k, v in shift_classifier_labels.items()},\n",
    "    baseline_method='count',\n",
    "    dataset_labels={},\n",
    "    metric='coverage',\n",
    "    row_grouping=['dataset_label'],\n",
    ")\n",
    "styled_coverage_table_df = coverage_table_df.applymap(lambda v: f'{v:.2%}')\n",
    "display(styled_coverage_table_df)\n",
    "print_table_latex(styled_coverage_table_df)"
   ]
  }
 ],
 "metadata": {
  "kernelspec": {
   "display_name": "Python 3",
   "language": "python",
   "name": "python3"
  },
  "language_info": {
   "codemirror_mode": {
    "name": "ipython",
    "version": 3
   },
   "file_extension": ".py",
   "mimetype": "text/x-python",
   "name": "python",
   "nbconvert_exporter": "python",
   "pygments_lexer": "ipython3",
   "version": "3.8.5"
  }
 },
 "nbformat": 4,
 "nbformat_minor": 4
}
