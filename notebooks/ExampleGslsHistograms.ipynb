{
 "cells": [
  {
   "cell_type": "markdown",
   "metadata": {},
   "source": [
    "## Example GSLS Histograms"
   ]
  },
  {
   "cell_type": "code",
   "execution_count": null,
   "metadata": {},
   "outputs": [],
   "source": [
    "import numpy as np\n",
    "import pandas as pd\n",
    "import plotly.express as px\n",
    "import scipy.stats"
   ]
  },
  {
   "cell_type": "code",
   "execution_count": null,
   "metadata": {},
   "outputs": [],
   "source": [
    "def hist_df(label, hist):\n",
    "    return pd.DataFrame({\n",
    "        'index': range(hist.shape[0]),\n",
    "        'hist': hist,\n",
    "        'label': label,\n",
    "    })\n",
    "\n",
    "def merge_dfs(*dfs):\n",
    "    return pd.concat(dfs)\n",
    "\n",
    "def plot_histogram(hist, colours=None, **kwargs):\n",
    "    fig = px.bar(hist, x='index', y='hist', color='label',\n",
    "                 color_discrete_sequence=colours, **kwargs)\n",
    "    fig.update_xaxes(showgrid=False, zeroline=False, visible=False)\n",
    "    fig.update_yaxes(showgrid=False, zeroline=False, visible=False)\n",
    "    fig.update_layout(\n",
    "        showlegend=False,\n",
    "        plot_bgcolor='rgba(0, 0, 0, 0)',\n",
    "        paper_bgcolor='rgba(0, 0, 0, 0)',\n",
    "        margin=dict(b=10, t=10, l=10, r=10, pad=0),\n",
    "    )\n",
    "    fig.update_traces(\n",
    "        marker=dict(line=dict(width=0)),\n",
    "    )\n",
    "    return fig"
   ]
  },
  {
   "cell_type": "code",
   "execution_count": null,
   "metadata": {},
   "outputs": [],
   "source": [
    "bins = 10\n",
    "\n",
    "remain_hist = np.random.RandomState(100).dirichlet(np.ones(bins))\n",
    "\n",
    "loss_hist = scipy.stats.norm.pdf(np.arange(bins), loc=bins*0.3, scale=bins/10)\n",
    "loss_hist = loss_hist / loss_hist.sum()\n",
    "loss_weight = 0.2\n",
    "\n",
    "gain_hist = scipy.stats.norm.pdf(np.arange(bins), loc=bins*0.7, scale=bins/10)\n",
    "gain_hist = gain_hist / gain_hist.sum()\n",
    "gain_weight = 0.4"
   ]
  },
  {
   "cell_type": "code",
   "execution_count": null,
   "metadata": {},
   "outputs": [],
   "source": [
    "source_df = merge_dfs(\n",
    "    hist_df('$P^R$', (1 - loss_weight) * remain_hist),\n",
    "    hist_df('$P^-$', loss_weight * loss_hist),\n",
    ")\n",
    "loss_df = hist_df('$P^-$', loss_hist)\n",
    "remain_df = hist_df('$P^R$', remain_hist)\n",
    "gain_df = hist_df('$P^+$', gain_hist)\n",
    "target_df = merge_dfs(\n",
    "    hist_df('$P^R$', (1 - gain_weight) * remain_hist),\n",
    "    hist_df('$P^+$', gain_weight * gain_hist),\n",
    ")\n",
    "\n",
    "loss_color = '#731717'\n",
    "gain_color = '#61F261'\n",
    "remain_color = '#6161F2'\n",
    "\n",
    "fig = plot_histogram(source_df, colours=[remain_color, loss_color])\n",
    "fig.write_image('plots/source-dist.svg')\n",
    "fig.show()\n",
    "fig = plot_histogram(loss_df, colours=[loss_color])\n",
    "fig.write_image('plots/loss-dist.svg')\n",
    "fig.show()\n",
    "fig = plot_histogram(remain_df, colours=[remain_color])\n",
    "fig.write_image('plots/remain-dist.svg')\n",
    "fig.show()\n",
    "fig = plot_histogram(gain_df, colours=[gain_color])\n",
    "fig.write_image('plots/gain-dist.svg')\n",
    "fig.show()\n",
    "fig = plot_histogram(target_df, colours=[remain_color, gain_color])\n",
    "fig.write_image('plots/target-dist.svg')\n",
    "fig.show()"
   ]
  },
  {
   "cell_type": "code",
   "execution_count": null,
   "metadata": {},
   "outputs": [],
   "source": []
  }
 ],
 "metadata": {
  "kernelspec": {
   "display_name": "Python 3",
   "language": "python",
   "name": "python3"
  },
  "language_info": {
   "codemirror_mode": {
    "name": "ipython",
    "version": 3
   },
   "file_extension": ".py",
   "mimetype": "text/x-python",
   "name": "python",
   "nbconvert_exporter": "python",
   "pygments_lexer": "ipython3",
   "version": "3.8.5"
  }
 },
 "nbformat": 4,
 "nbformat_minor": 4
}
