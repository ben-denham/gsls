{
 "cells": [
  {
   "cell_type": "markdown",
   "metadata": {},
   "source": [
    "# Quantification under Synthetic Shift"
   ]
  },
  {
   "cell_type": "code",
   "execution_count": null,
   "metadata": {},
   "outputs": [],
   "source": [
    "from pyquantification.experiments import cached_experiments"
   ]
  },
  {
   "cell_type": "code",
   "execution_count": null,
   "metadata": {},
   "outputs": [],
   "source": [
    "configs = [\n",
    "    {\n",
    "        'shift_type': 'no_shift',\n",
    "        'loss_weight': 0,\n",
    "        'gain_weight': 0,\n",
    "        'quantifier': 'pcc',\n",
    "        'rejection_limit': 'fracmax:0.5',\n",
    "        'rejectors': [\n",
    "            'pcc-pt',\n",
    "            'pcc-apt',\n",
    "            'pcc-mip',\n",
    "        ],\n",
    "    },\n",
    "    {\n",
    "        'shift_type': 'prior_shift',\n",
    "        'loss_weight': 0,\n",
    "        'gain_weight': 0,\n",
    "        'quantifier': 'em',\n",
    "        'rejection_limit': 'fracmax:0.5',\n",
    "        'rejectors': [\n",
    "            'em-pt',\n",
    "            'em-apt',\n",
    "            'em-mip',\n",
    "        ],\n",
    "    },\n",
    "    {\n",
    "        'shift_type': 'gsls_shift',\n",
    "        'loss_weight': 0.3,\n",
    "        'gain_weight': 0.3,\n",
    "        'quantifier': 'gsls',\n",
    "        'rejection_limit': 'fracmax:0.5',\n",
    "        'rejectors': [\n",
    "            'ugsls-pt',\n",
    "            'ugsls-apt',\n",
    "            'ugsls-mip',\n",
    "        ],\n",
    "    },\n",
    "]\n",
    "dataset_labels = {\n",
    "    'handwritten-letters-letter': 'HLL',\n",
    "    'handwritten-letters-author': 'HLA',\n",
    "    'arabic-digits': 'DIG',\n",
    "    'insect-sex': 'ISX',\n",
    "    'insect-species': 'ISP',\n",
    "}\n",
    "\n",
    "results_dfs = []\n",
    "for config_num, config in enumerate(configs, start=1):\n",
    "    print(f'Running experiments for config {config_num}')\n",
    "    results_dfs.append(cached_experiments(\n",
    "        cache_key=f'synthetic_{config_num}_rejection_results',\n",
    "        dataset_names=list(dataset_labels.keys()),\n",
    "        classifier_names=['logreg'],\n",
    "        calibration_methods=['uncalibrated'],\n",
    "        loss_weights=[config['loss_weight']],\n",
    "        gain_weights=[config['gain_weight']],\n",
    "        random_states=list(range(1000)),\n",
    "        shift_types=[config['shift_type']],\n",
    "        bin_counts=['auto'],\n",
    "        random_priors_options=[True],\n",
    "        quantification_methods=[config['quantifier']],\n",
    "        rejectors=config['rejectors'],\n",
    "        rejection_limits=[config['rejection_limit']],\n",
    "        classification_workers=10,\n",
    "        continue_on_failure=True,\n",
    "    ))"
   ]
  }
 ],
 "metadata": {
  "kernelspec": {
   "display_name": "Python 3",
   "language": "python",
   "name": "python3"
  },
  "language_info": {
   "codemirror_mode": {
    "name": "ipython",
    "version": 3
   },
   "file_extension": ".py",
   "mimetype": "text/x-python",
   "name": "python",
   "nbconvert_exporter": "python",
   "pygments_lexer": "ipython3",
   "version": "3.8.5"
  }
 },
 "nbformat": 4,
 "nbformat_minor": 4
}
