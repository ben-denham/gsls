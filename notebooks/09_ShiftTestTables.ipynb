{
 "cells": [
  {
   "cell_type": "markdown",
   "metadata": {},
   "source": [
    "# Shift Tests for Dynamically Selecting a Quantification Method"
   ]
  },
  {
   "cell_type": "code",
   "execution_count": null,
   "metadata": {},
   "outputs": [],
   "source": [
    "import itertools\n",
    "import numpy as np\n",
    "import pandas as pd\n",
    "import seaborn as sns\n",
    "from matplotlib.colors import rgb2hex\n",
    "\n",
    "from pyquantification.experiments import cached_experiments\n",
    "from pyquantification.evaluation import (\n",
    "    display_stat_table,\n",
    "    color_scale,\n",
    "    build_shift_classification_df,\n",
    "    shift_classifier_plot,\n",
    "    baseline_comparison_table,\n",
    "    shift_test_runtime_table,\n",
    "    shift_test_table,\n",
    ")"
   ]
  },
  {
   "cell_type": "code",
   "execution_count": null,
   "metadata": {},
   "outputs": [],
   "source": [
    "gsls_df = cached_experiments(cache_key='shift_test_gsls_results')\n",
    "prior_df = cached_experiments(cache_key='shift_test_prior_shift_results')\n",
    "shift_test_runtime_df = cached_experiments(cache_key='shift_test_runtime_results')"
   ]
  },
  {
   "cell_type": "code",
   "execution_count": null,
   "metadata": {},
   "outputs": [],
   "source": [
    "dataset_labels = {\n",
    "    'handwritten-letters-letter': 'HLL',\n",
    "    'handwritten-letters-author': 'HLA',\n",
    "    'arabic-digits': 'DIG',\n",
    "    'insect-sex': 'ISX',\n",
    "    'insect-species': 'ISP',\n",
    "}\n",
    "any_shift_test_labels = {\n",
    "    'ks': 'KS',\n",
    "    'lr': 'LR',\n",
    "}\n",
    "non_prior_shift_test_labels = {\n",
    "    'wpa-xks': 'WPA-KS',\n",
    "    'wpa-xdhd': 'WPA-HD',\n",
    "    'cdt-xks': 'CDT-KS',\n",
    "    'cdt-xdhd': 'CDT-HD',\n",
    "    'aks': 'AKS',\n",
    "}\n",
    "shift_test_labels = {**any_shift_test_labels, **non_prior_shift_test_labels}\n",
    "shift_conditions = [\n",
    "    'No shift',\n",
    "    'GSLS shift',\n",
    "    'Prior shift',\n",
    "]\n",
    "shift_classifier_labels = {\n",
    "    'pcc': 'PCC',\n",
    "    'em': 'EM',\n",
    "    'gsls': 'GSLS',\n",
    "    **{\n",
    "        f'{any_shift_test}+{non_prior_shift_test}': f'{any_shift_test_label}+{non_prior_shift_test_label}'\n",
    "        for any_shift_test, any_shift_test_label in any_shift_test_labels.items()\n",
    "        for non_prior_shift_test, non_prior_shift_test_label in non_prior_shift_test_labels.items()\n",
    "    }\n",
    "}\n",
    "\n",
    "def print_table_latex(table_df):\n",
    "    print(' & '.join(map(str, table_df.index.names)) + ' & ' + ' & '.join(map(str, table_df.columns)))\n",
    "    for index, row in table_df.iterrows():\n",
    "        index = index if isinstance(index, tuple) else (index,)\n",
    "        if row.isna().all():\n",
    "            print('\\hline')\n",
    "        else:\n",
    "            print(' & '.join([\n",
    "                str(value) for value in\n",
    "                itertools.chain(index, row.to_dict().values())\n",
    "            ]) + r' \\\\')\n",
    "\n",
    "def get_shift_condition(row):\n",
    "    if row['shift_type'] == 'gsls_shift':\n",
    "        if (row['gain_weight'] + row['loss_weight']) == 0:\n",
    "            return '0_no_shift'\n",
    "        else:\n",
    "            return '1_gsls_shift'\n",
    "    elif row['shift_type'] == 'prior_shift':\n",
    "        return '2_prior_shift'\n",
    "    else:\n",
    "        raise ValueError()"
   ]
  },
  {
   "cell_type": "code",
   "execution_count": null,
   "metadata": {},
   "outputs": [],
   "source": [
    "gsls_shifted = (gsls_df['gain_weight'] > 0) | (gsls_df['loss_weight'] > 0)\n",
    "gsls_df['shift_condition'] = pd.Series('No shift', index=gsls_df.index).mask(gsls_shifted, 'GSLS shift')\n",
    "prior_df['shift_condition'] = pd.Series('Prior shift', index=prior_df.index)\n",
    "\n",
    "plot_df = pd.concat([gsls_df, prior_df]).reset_index()\n",
    "_, shift_plot_df = build_shift_classification_df(\n",
    "    plot_df,\n",
    "    any_shift_tests=any_shift_test_labels.keys(),\n",
    "    non_prior_shift_tests=non_prior_shift_test_labels.keys(),\n",
    ")"
   ]
  },
  {
   "cell_type": "markdown",
   "metadata": {},
   "source": [
    "## Shift Test Experiments"
   ]
  },
  {
   "cell_type": "code",
   "execution_count": null,
   "metadata": {},
   "outputs": [],
   "source": [
    "shift_test_colormap = sns.light_palette('green', as_cmap=True)\n",
    "    \n",
    "table_df = shift_test_table(\n",
    "    shift_plot_df,\n",
    "    dataset_labels=dataset_labels,\n",
    "    shift_conditions=shift_conditions,\n",
    "    shift_test_labels=shift_test_labels,\n",
    ")\n",
    "display(\n",
    "    table_df.style\n",
    "    .format('{:.0%}')\n",
    "    .background_gradient(cmap=shift_test_colormap, vmin=0, vmax=1)\n",
    ")\n",
    "\n",
    "def format_shift_test_cell(value):\n",
    "    color = shift_test_colormap(value)\n",
    "    hexcolor = rgb2hex(color).strip('#').upper()\n",
    "    return f'\\cellcolor[HTML]{{{hexcolor}}} {value:.0%}'.replace('%', '\\%')\n",
    "\n",
    "print_table_latex(table_df.applymap(format_shift_test_cell))"
   ]
  },
  {
   "cell_type": "markdown",
   "metadata": {},
   "source": [
    "## Dynamic Quantifier Selection Experiments"
   ]
  },
  {
   "cell_type": "code",
   "execution_count": null,
   "metadata": {},
   "outputs": [],
   "source": [
    "from pyquantification.evaluation import shift_classifier_plot\n",
    "\n",
    "fig = shift_classifier_plot(\n",
    "    shift_plot_df,\n",
    "    shift_classifiers=shift_classifier_labels.keys(),\n",
    "    shift_classifier_labels=shift_classifier_labels,\n",
    ")\n",
    "fig.write_image(\"plots/shift-classifiers.svg\")\n",
    "fig.show()"
   ]
  },
  {
   "cell_type": "markdown",
   "metadata": {},
   "source": [
    "## Dynamic vs Static Quantifiers"
   ]
  },
  {
   "cell_type": "code",
   "execution_count": null,
   "metadata": {},
   "outputs": [],
   "source": [
    "best_shift_classifier = 'ks+aks'\n",
    "base_methods = ['pcc', 'em', 'gsls']\n",
    "shift_classifier_methods = {\n",
    "    shift_classifier_labels[method]: method\n",
    "    for method in [best_shift_classifier] + base_methods\n",
    "}\n",
    "\n",
    "BASE_GRADIENT_OPTIONS = dict(\n",
    "    cmap=sns.diverging_palette(20, 220, as_cmap=True),\n",
    "    vmin=-1,\n",
    "    vmax=1,\n",
    ")\n",
    "\n",
    "def display_comparison_table(*, table_df, significance_mask, gradient_options=None, format='{:.0%}'):\n",
    "    gradient_options = {} if gradient_options is None else gradient_options\n",
    "    gradient_options = {**BASE_GRADIENT_OPTIONS, **gradient_options}\n",
    "    \n",
    "    background_row_mask = (table_df.index.get_level_values(1) != shift_classifier_labels[best_shift_classifier])\n",
    "    \n",
    "    def significance_formatter(df):\n",
    "        assert df.shape == significance_mask.shape\n",
    "        return pd.DataFrame('', index=df.index, columns=df.columns).mask(significance_mask, 'font-weight: bold;')\n",
    "    \n",
    "    display(\n",
    "        table_df.style\n",
    "        .format(format)\n",
    "        .background_gradient(**gradient_options,\n",
    "                             subset=(background_row_mask, table_df.columns))\n",
    "        .apply(significance_formatter, axis=None)\n",
    "    )\n",
    "\n",
    "def print_comparison_table_latex(*, table_df, significance_mask, gradient_options=None, format='{:.0%}'):\n",
    "    gradient_options = {} if gradient_options is None else gradient_options\n",
    "    gradient_options = {**BASE_GRADIENT_OPTIONS, **gradient_options}\n",
    "    \n",
    "    def cellcolor(value):\n",
    "        color = gradient_options['cmap'](\n",
    "            (value - gradient_options['vmin']) / (gradient_options['vmax'] - gradient_options['vmin'])\n",
    "        )\n",
    "        hexcolor = rgb2hex(color).strip('#').upper()\n",
    "        return f'\\cellcolor[HTML]{{{hexcolor}}} '\n",
    "    \n",
    "    # Format percentages\n",
    "    output_df = table_df.applymap(lambda v: format.format(v).replace('%', '\\%'))\n",
    "    # Bold significant values\n",
    "    output_df = output_df.mask(significance_mask, output_df.applymap(lambda v: fr'\\textbf{{{v}}}'))\n",
    "    # Add cellcolor commands\n",
    "    output_df = table_df.applymap(cellcolor) + output_df\n",
    "    print_table_latex(output_df)"
   ]
  },
  {
   "cell_type": "markdown",
   "metadata": {},
   "source": [
    "### Coverage Comparison"
   ]
  },
  {
   "cell_type": "code",
   "execution_count": null,
   "metadata": {},
   "outputs": [],
   "source": [
    "coverage_table_df, coverage_significance_mask = baseline_comparison_table(\n",
    "    shift_plot_df,\n",
    "    methods=shift_classifier_methods,\n",
    "    baseline_method=best_shift_classifier,\n",
    "    dataset_labels=dataset_labels,\n",
    "    metric='coverage',\n",
    "    relative_values=True,\n",
    ")\n",
    "coverage_table_args = dict(\n",
    "    table_df=coverage_table_df,\n",
    "    significance_mask=coverage_significance_mask,\n",
    ")\n",
    "display_comparison_table(**coverage_table_args)\n",
    "#print_comparison_table_latex(**coverage_table_args)\n",
    "\n",
    "condition_coverage_table_df, _ = baseline_comparison_table(\n",
    "    shift_plot_df.assign(shift_condition=shift_plot_df.apply(get_shift_condition, axis=1)),\n",
    "    methods=shift_classifier_methods,\n",
    "    baseline_method=best_shift_classifier,\n",
    "    dataset_labels=dataset_labels,\n",
    "    metric='coverage',\n",
    "    relative_values=True,\n",
    "    row_grouping=['shift_condition'],\n",
    ")\n",
    "\n",
    "def format_coverage_cell(value):\n",
    "    return f'{value:.0%}'.replace('%', '\\%')\n",
    "\n",
    "print_table_latex(condition_coverage_table_df.applymap(format_coverage_cell))"
   ]
  },
  {
   "cell_type": "markdown",
   "metadata": {},
   "source": [
    "### Error Comparison"
   ]
  },
  {
   "cell_type": "code",
   "execution_count": null,
   "metadata": {},
   "outputs": [],
   "source": [
    "error_table_df, error_significance_mask = baseline_comparison_table(\n",
    "    shift_plot_df,\n",
    "    methods=shift_classifier_methods,\n",
    "    baseline_method=best_shift_classifier,\n",
    "    dataset_labels=dataset_labels,\n",
    "    metric='absolute_error',\n",
    "    relative_values=True,\n",
    "    t_test_alpha=0.05,\n",
    ")\n",
    "error_table_args = dict(\n",
    "    table_df=error_table_df,\n",
    "    significance_mask=error_significance_mask,\n",
    "    format='{:.1%}',\n",
    "    gradient_options=dict(\n",
    "        cmap=sns.diverging_palette(220, 20, as_cmap=True),\n",
    "        vmin=-0.05,\n",
    "        vmax=0.05,\n",
    "    ),\n",
    ")\n",
    "display_comparison_table(**error_table_args)\n",
    "#print_comparison_table_latex(**error_table_args)\n",
    "\n",
    "condition_error_table_df, _ = baseline_comparison_table(\n",
    "    shift_plot_df.assign(shift_condition=shift_plot_df.apply(get_shift_condition, axis=1)),\n",
    "    methods=shift_classifier_methods,\n",
    "    baseline_method=best_shift_classifier,\n",
    "    dataset_labels=dataset_labels,\n",
    "    metric='absolute_error',\n",
    "    relative_values=True,\n",
    "    t_test_alpha=0.05,\n",
    "    include_std=True,\n",
    "    row_grouping=['shift_condition'],\n",
    ")\n",
    "def format_error_cell(value):\n",
    "    mean, std = value\n",
    "    return f'{mean:.2%} ({std:.2%})'\n",
    "\n",
    "print_table_latex(condition_error_table_df.applymap(format_error_cell))"
   ]
  },
  {
   "cell_type": "markdown",
   "metadata": {},
   "source": [
    "## Shift Test Runtimes"
   ]
  },
  {
   "cell_type": "code",
   "execution_count": null,
   "metadata": {},
   "outputs": [],
   "source": [
    "runtime_table_df = shift_test_runtime_table(\n",
    "    shift_test_runtime_df,\n",
    "    shift_test_labels=shift_test_labels,\n",
    "    dataset_labels=dataset_labels,\n",
    ")\n",
    "display(runtime_table_df.style.format('{:.2f}'))\n",
    "#print_table_latex(runtime_table_df.applymap(lambda v: f'{v:.2f}'))"
   ]
  }
 ],
 "metadata": {
  "kernelspec": {
   "display_name": "Python 3",
   "language": "python",
   "name": "python3"
  },
  "language_info": {
   "codemirror_mode": {
    "name": "ipython",
    "version": 3
   },
   "file_extension": ".py",
   "mimetype": "text/x-python",
   "name": "python",
   "nbconvert_exporter": "python",
   "pygments_lexer": "ipython3",
   "version": "3.8.5"
  }
 },
 "nbformat": 4,
 "nbformat_minor": 4
}
