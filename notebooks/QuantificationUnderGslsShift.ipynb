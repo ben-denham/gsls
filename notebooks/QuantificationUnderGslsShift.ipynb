{
 "cells": [
  {
   "cell_type": "markdown",
   "metadata": {},
   "source": [
    "# Quantification under GSLS Shift"
   ]
  },
  {
   "cell_type": "code",
   "execution_count": null,
   "metadata": {},
   "outputs": [],
   "source": [
    "from pyquantification.experiments import cached_experiments\n",
    "from pyquantification.evaluation import (\n",
    "    get_colormap,\n",
    "    display_dataset_summary,\n",
    "    display_stat_table,\n",
    "    color_scale,\n",
    "    plot_remain_weight,\n",
    "    plot_error_bars_sample,\n",
    ")"
   ]
  },
  {
   "cell_type": "code",
   "execution_count": null,
   "metadata": {},
   "outputs": [],
   "source": [
    "quantification_methods = [\n",
    "    'count',\n",
    "    'pcc',\n",
    "    'em', \n",
    "    'gsls',\n",
    "    'true-weight-gsls',\n",
    "]\n",
    "dataset_labels = {\n",
    "    'handwritten-letters-letter': 'HLL',\n",
    "    'handwritten-letters-author': 'HLA',\n",
    "    'arabic-digits': 'DIG',\n",
    "    'insect-sex': 'ISX',\n",
    "    'insect-species': 'ISP',\n",
    "}\n",
    "results_df = cached_experiments(\n",
    "    cache_key='gsls_results',\n",
    "    dataset_names=list(dataset_labels.keys()),\n",
    "    classifier_names=['logreg'],\n",
    "    loss_weights=[0, 0.3, 0.7, 1],\n",
    "    gain_weights=[0, 0.3, 0.7, 1],\n",
    "    random_states=list(range(0, 1000)),\n",
    "    shift_types=['gsls_shift'],\n",
    "    bin_counts=['auto'],\n",
    "    random_priors_options=[True],\n",
    "    quantification_methods=quantification_methods,\n",
    "    classification_workers=12,\n",
    "    continue_on_failure=True,\n",
    ")"
   ]
  },
  {
   "cell_type": "code",
   "execution_count": null,
   "metadata": {},
   "outputs": [],
   "source": [
    "# Allow for initial filtering of results\n",
    "plot_df = results_df.reset_index()\n",
    "\n",
    "# Set dataset labels\n",
    "plot_df['dataset_label'] = plot_df['dataset_name'].map(dataset_labels)\n",
    "\n",
    "# Colormap for consistent dataset label colours\n",
    "colormap = get_colormap(dataset_labels.values())"
   ]
  },
  {
   "cell_type": "markdown",
   "metadata": {},
   "source": [
    "## Dataset Summary"
   ]
  },
  {
   "cell_type": "code",
   "execution_count": null,
   "metadata": {},
   "outputs": [],
   "source": [
    "display_dataset_summary(dataset_labels)"
   ]
  },
  {
   "cell_type": "markdown",
   "metadata": {},
   "source": [
    "## Quantification Method Comparison"
   ]
  },
  {
   "cell_type": "code",
   "execution_count": null,
   "metadata": {},
   "outputs": [],
   "source": [
    "display_stat_table(plot_df,\n",
    "                   stat='coverage',\n",
    "                   row_grouping=['gain_weight', 'loss_weight'],\n",
    "                   methods={'PCC': 'pcc',\n",
    "                            'EM': 'em',\n",
    "                            'GSLS': 'gsls',\n",
    "                            'True Weight GSLS': 'true-weight-gsls',},\n",
    "                   color_func=color_scale(threshold=0.8),\n",
    "                   format_string='{:.0%}')"
   ]
  },
  {
   "cell_type": "code",
   "execution_count": null,
   "metadata": {},
   "outputs": [],
   "source": [
    "display_stat_table(plot_df,\n",
    "                   stat='absolute_error',\n",
    "                   row_grouping='dataset_name',\n",
    "                   methods={'CC': 'count',\n",
    "                            'PCC': 'pcc',\n",
    "                            'EM': 'em',\n",
    "                            'GSLS': 'gsls'},\n",
    "                   format_string='{:.1%}',\n",
    "                   include_std=True)"
   ]
  },
  {
   "cell_type": "markdown",
   "metadata": {},
   "source": [
    "## GSLS with True Weights vs Estimated Weights"
   ]
  },
  {
   "cell_type": "code",
   "execution_count": null,
   "metadata": {},
   "outputs": [],
   "source": [
    "fig = plot_remain_weight(plot_df, 'gsls', colormap=colormap)\n",
    "fig.write_image(\"plots/remain-weights.svg\")\n",
    "fig.show()"
   ]
  },
  {
   "cell_type": "code",
   "execution_count": null,
   "metadata": {},
   "outputs": [],
   "source": [
    "display_stat_table(plot_df,\n",
    "                   stat='width',\n",
    "                   row_grouping=['gain_weight', 'loss_weight'],\n",
    "                   methods={'True Weight GSLS': 'true-weight-gsls',\n",
    "                            'GSLS': 'gsls'},\n",
    "                   color_func=color_scale(inverted=True),\n",
    "                   include_std=True,\n",
    "                   format_string='{:.2%}')"
   ]
  },
  {
   "cell_type": "markdown",
   "metadata": {},
   "source": [
    "## Visual Comparison of Quantification Intervals"
   ]
  },
  {
   "cell_type": "code",
   "execution_count": null,
   "metadata": {},
   "outputs": [],
   "source": [
    "fig = plot_error_bars_sample(plot_df, 'gsls', dataset_name='insect-sex', seed=7,\n",
    "                             methods=['pcc', 'em', 'gsls'], include_fit_weights=False)\n",
    "fig.write_image(\"plots/quant-lines.svg\")\n",
    "fig.show()"
   ]
  },
  {
   "cell_type": "code",
   "execution_count": null,
   "metadata": {},
   "outputs": [],
   "source": []
  }
 ],
 "metadata": {
  "kernelspec": {
   "display_name": "Python 3",
   "language": "python",
   "name": "python3"
  },
  "language_info": {
   "codemirror_mode": {
    "name": "ipython",
    "version": 3
   },
   "file_extension": ".py",
   "mimetype": "text/x-python",
   "name": "python",
   "nbconvert_exporter": "python",
   "pygments_lexer": "ipython3",
   "version": "3.8.5"
  }
 },
 "nbformat": 4,
 "nbformat_minor": 4
}
