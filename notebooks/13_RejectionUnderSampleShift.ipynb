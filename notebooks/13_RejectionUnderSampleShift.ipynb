{
 "cells": [
  {
   "cell_type": "markdown",
   "metadata": {},
   "source": [
    "# Quantification under Sample Shift"
   ]
  },
  {
   "cell_type": "code",
   "execution_count": null,
   "metadata": {},
   "outputs": [],
   "source": [
    "from pyquantification.experiments import cached_experiments, cached_test_sample_indexes"
   ]
  },
  {
   "cell_type": "code",
   "execution_count": null,
   "metadata": {},
   "outputs": [],
   "source": [
    "configs = [\n",
    "    {\n",
    "        'quantifier': 'pcc',\n",
    "        'rejection_limit': 'fracmax:0.5',\n",
    "        'rejectors': [\n",
    "            'pcc-pt',\n",
    "            'pcc-apt',\n",
    "            'pcc-mip',\n",
    "        ],\n",
    "    },\n",
    "    {\n",
    "        'quantifier': 'em',\n",
    "        'rejection_limit': 'fracmax:0.5',\n",
    "        'rejectors': [\n",
    "            'em-pt',\n",
    "            'em-apt',\n",
    "            'em-mip',\n",
    "        ],\n",
    "    },\n",
    "    {\n",
    "        'quantifier': 'gsls',\n",
    "        'rejection_limit': 'fracmax:0.5',\n",
    "        'rejectors': [\n",
    "            'ugsls-pt',\n",
    "            'ugsls-apt',\n",
    "            'ugsls-mip',\n",
    "        ],\n",
    "    },\n",
    "]\n",
    "dataset_labels = {\n",
    "    'plankton': 'OPL',\n",
    "    'fg-plankton': 'FPL',\n",
    "    'binary-plankton': 'BPL',\n",
    "}\n",
    "\n",
    "results_dfs = []\n",
    "for dataset_name in dataset_labels.keys():\n",
    "    print(f'Selecting sample_idxs for {dataset_name} experiments')\n",
    "    sample_idxs = cached_test_sample_indexes(\n",
    "        cache_key=f'sample_rejection',\n",
    "        dataset_name=dataset_name,\n",
    "        max_test_n=4000,\n",
    "    )\n",
    "    print(f'Running {dataset_name} experiments')\n",
    "    for config_num, config in enumerate(configs, start=1):\n",
    "        print(f'Running experiments for {dataset_name} and config {config_num}')\n",
    "        results_dfs.append(cached_experiments(\n",
    "            cache_key=f'sample_{dataset_name}_{config_num}_rejection_results',\n",
    "            dataset_names=[dataset_name],\n",
    "            classifier_names=['logreg'],\n",
    "            calibration_methods=['uncalibrated'],\n",
    "            loss_weights=[0],\n",
    "            gain_weights=[0],\n",
    "            random_states=[0],\n",
    "            shift_types=['no_shift'],\n",
    "            bin_counts=['auto'],\n",
    "            random_priors_options=[True],\n",
    "            quantification_methods=[config['quantifier']],\n",
    "            rejectors=config['rejectors'],\n",
    "            rejection_limits=[config['rejection_limit']],\n",
    "            classification_workers=1,\n",
    "            quantification_workers=10,\n",
    "            continue_on_failure=True,\n",
    "            sample_idxs=sample_idxs,\n",
    "        ))"
   ]
  }
 ],
 "metadata": {
  "kernelspec": {
   "display_name": "Python 3",
   "language": "python",
   "name": "python3"
  },
  "language_info": {
   "codemirror_mode": {
    "name": "ipython",
    "version": 3
   },
   "file_extension": ".py",
   "mimetype": "text/x-python",
   "name": "python",
   "nbconvert_exporter": "python",
   "pygments_lexer": "ipython3",
   "version": "3.8.5"
  }
 },
 "nbformat": 4,
 "nbformat_minor": 4
}
