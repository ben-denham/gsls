{
 "cells": [
  {
   "cell_type": "markdown",
   "metadata": {},
   "source": [
    "# Shift Tests under GSLS Shift"
   ]
  },
  {
   "cell_type": "code",
   "execution_count": null,
   "metadata": {},
   "outputs": [],
   "source": [
    "from pyquantification.experiments import cached_experiments"
   ]
  },
  {
   "cell_type": "code",
   "execution_count": null,
   "metadata": {},
   "outputs": [],
   "source": [
    "quantification_methods = [\n",
    "    'pcc',\n",
    "    'em',\n",
    "    'gsls',\n",
    "]\n",
    "any_shift_tests = [\n",
    "    'ks',\n",
    "    'lr',\n",
    "]\n",
    "non_prior_shift_tests = [\n",
    "    'wpa-xks',\n",
    "    'wpa-xdhd',\n",
    "    'cdt-xks',\n",
    "    'cdt-xdhd',\n",
    "    'aks',\n",
    "]\n",
    "shift_tests = any_shift_tests + non_prior_shift_tests\n",
    "dataset_labels = {\n",
    "    'handwritten-letters-letter': 'HLL',\n",
    "    'handwritten-letters-author': 'HLA',\n",
    "    'arabic-digits': 'DIG',\n",
    "    'insect-sex': 'ISX',\n",
    "    'insect-species': 'ISP',\n",
    "}\n",
    "results_df = cached_experiments(\n",
    "    cache_key='shift_test_gsls_results',\n",
    "    dataset_names=list(dataset_labels.keys()),\n",
    "    classifier_names=['logreg'],\n",
    "    calibration_methods=['uncalibrated'],\n",
    "    loss_weights=[0, 0.3, 0.7, 1],\n",
    "    gain_weights=[0, 0.3, 0.7, 1],\n",
    "    random_states=list(range(0, 1000)),\n",
    "    shift_types=['gsls_shift'],\n",
    "    bin_counts=['auto'],\n",
    "    random_priors_options=[True],\n",
    "    quantification_methods=quantification_methods,\n",
    "    shift_tests=shift_tests,\n",
    "    classification_workers=10,\n",
    "    continue_on_failure=True,\n",
    ")"
   ]
  },
  {
   "cell_type": "code",
   "execution_count": null,
   "metadata": {},
   "outputs": [],
   "source": []
  }
 ],
 "metadata": {
  "kernelspec": {
   "display_name": "Python 3",
   "language": "python",
   "name": "python3"
  },
  "language_info": {
   "codemirror_mode": {
    "name": "ipython",
    "version": 3
   },
   "file_extension": ".py",
   "mimetype": "text/x-python",
   "name": "python",
   "nbconvert_exporter": "python",
   "pygments_lexer": "ipython3",
   "version": "3.8.5"
  }
 },
 "nbformat": 4,
 "nbformat_minor": 4
}
