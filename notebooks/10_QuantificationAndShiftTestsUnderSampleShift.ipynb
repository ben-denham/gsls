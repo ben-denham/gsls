{
 "cells": [
  {
   "cell_type": "markdown",
   "metadata": {},
   "source": [
    "# Quantification under Sample Shift"
   ]
  },
  {
   "cell_type": "code",
   "execution_count": null,
   "metadata": {},
   "outputs": [],
   "source": [
    "from pyquantification.experiments import cached_experiments"
   ]
  },
  {
   "cell_type": "code",
   "execution_count": null,
   "metadata": {},
   "outputs": [],
   "source": [
    "quantification_methods = [\n",
    "    'count',\n",
    "    'pcc',\n",
    "    'em', \n",
    "    'gsls',\n",
    "    'true-weight-gsls',\n",
    "]\n",
    "shift_tests = [\n",
    "    'lr',\n",
    "    'ks',\n",
    "    'aks',\n",
    "]\n",
    "conf = dict(\n",
    "    classifier_names=['logreg'],\n",
    "    calibration_methods=['uncalibrated'],\n",
    "    loss_weights=[0],\n",
    "    gain_weights=[0],\n",
    "    random_states=[0],\n",
    "    shift_types=['no_shift'],\n",
    "    bin_counts=['auto'],\n",
    "    random_priors_options=[False],\n",
    "    quantification_methods=quantification_methods,\n",
    "    shift_tests=shift_tests,\n",
    "    classification_workers=1,\n",
    "    quantification_workers=5,\n",
    "    continue_on_failure=True,\n",
    "    # Run on all samples\n",
    "    sample_idxs=None,\n",
    ")"
   ]
  },
  {
   "cell_type": "code",
   "execution_count": null,
   "metadata": {},
   "outputs": [],
   "source": [
    "cached_experiments(**conf, cache_key='binary_sample_results', dataset_names=['binary-plankton'])"
   ]
  },
  {
   "cell_type": "code",
   "execution_count": null,
   "metadata": {},
   "outputs": [],
   "source": [
    "cached_experiments(**conf, cache_key='fg_sample_results', dataset_names=['fg-plankton'])"
   ]
  },
  {
   "cell_type": "code",
   "execution_count": null,
   "metadata": {},
   "outputs": [],
   "source": [
    "cached_experiments(**conf, cache_key='sample_results', dataset_names=['plankton'])"
   ]
  }
 ],
 "metadata": {
  "kernelspec": {
   "display_name": "Python 3",
   "language": "python",
   "name": "python3"
  },
  "language_info": {
   "codemirror_mode": {
    "name": "ipython",
    "version": 3
   },
   "file_extension": ".py",
   "mimetype": "text/x-python",
   "name": "python",
   "nbconvert_exporter": "python",
   "pygments_lexer": "ipython3",
   "version": "3.8.5"
  }
 },
 "nbformat": 4,
 "nbformat_minor": 4
}
